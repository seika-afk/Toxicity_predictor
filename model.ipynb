{
 "cells": [
  {
   "cell_type": "code",
   "execution_count": 1,
   "id": "57237c7b-20ca-4485-adfe-b25df7f65251",
   "metadata": {},
   "outputs": [],
   "source": [
    "import pandas as pd\n",
    "import numpy as np"
   ]
  },
  {
   "cell_type": "code",
   "execution_count": 2,
   "id": "eab325a1-8005-4dc2-9cf8-115adf792b58",
   "metadata": {},
   "outputs": [],
   "source": [
    "df=pd.read_csv(\"toxicity_dataset.csv\")"
   ]
  },
  {
   "cell_type": "code",
   "execution_count": 3,
   "id": "80f792bd-af62-4298-961a-7317da9a5528",
   "metadata": {},
   "outputs": [
    {
     "data": {
      "text/html": [
       "<div>\n",
       "<style scoped>\n",
       "    .dataframe tbody tr th:only-of-type {\n",
       "        vertical-align: middle;\n",
       "    }\n",
       "\n",
       "    .dataframe tbody tr th {\n",
       "        vertical-align: top;\n",
       "    }\n",
       "\n",
       "    .dataframe thead th {\n",
       "        text-align: right;\n",
       "    }\n",
       "</style>\n",
       "<table border=\"1\" class=\"dataframe\">\n",
       "  <thead>\n",
       "    <tr style=\"text-align: right;\">\n",
       "      <th></th>\n",
       "      <th>text</th>\n",
       "      <th>label</th>\n",
       "    </tr>\n",
       "  </thead>\n",
       "  <tbody>\n",
       "    <tr>\n",
       "      <th>0</th>\n",
       "      <td>You're very kind.</td>\n",
       "      <td>0</td>\n",
       "    </tr>\n",
       "    <tr>\n",
       "      <th>1</th>\n",
       "      <td>You're so stupid!</td>\n",
       "      <td>1</td>\n",
       "    </tr>\n",
       "    <tr>\n",
       "      <th>2</th>\n",
       "      <td>I hate you.</td>\n",
       "      <td>1</td>\n",
       "    </tr>\n",
       "    <tr>\n",
       "      <th>3</th>\n",
       "      <td>Keep it up!</td>\n",
       "      <td>0</td>\n",
       "    </tr>\n",
       "    <tr>\n",
       "      <th>4</th>\n",
       "      <td>You're very kind.</td>\n",
       "      <td>0</td>\n",
       "    </tr>\n",
       "  </tbody>\n",
       "</table>\n",
       "</div>"
      ],
      "text/plain": [
       "                text  label\n",
       "0  You're very kind.      0\n",
       "1  You're so stupid!      1\n",
       "2        I hate you.      1\n",
       "3        Keep it up!      0\n",
       "4  You're very kind.      0"
      ]
     },
     "execution_count": 3,
     "metadata": {},
     "output_type": "execute_result"
    }
   ],
   "source": [
    "df.head()"
   ]
  },
  {
   "cell_type": "code",
   "execution_count": 4,
   "id": "e86061df-1b00-4d73-96f7-4e9f0315f807",
   "metadata": {},
   "outputs": [],
   "source": [
    "# 0->no\n",
    "#1-> yes"
   ]
  },
  {
   "cell_type": "code",
   "execution_count": 5,
   "id": "2ff2f13e-f153-4dc7-b020-13f920fefb31",
   "metadata": {},
   "outputs": [
    {
     "data": {
      "text/plain": [
       "'\\nTokk\\n'"
      ]
     },
     "execution_count": 5,
     "metadata": {},
     "output_type": "execute_result"
    }
   ],
   "source": [
    "#lowering,removing .,/ ; etc\n",
    "#Tokenization\n",
    "#stemming \n",
    "#using tfidf"
   ]
  },
  {
   "cell_type": "code",
   "execution_count": 6,
   "id": "28d06588-abd1-4f18-a423-fcb3286c995b",
   "metadata": {},
   "outputs": [],
   "source": [
    "import re\n",
    "from nltk.corpus import stopwords\n",
    "from nltk.stem.porter import PorterStemmer"
   ]
  },
  {
   "cell_type": "code",
   "execution_count": 7,
   "id": "570eac86-3b8b-465c-b5ea-0a188ae81713",
   "metadata": {},
   "outputs": [],
   "source": [
    "porter_stemmer=PorterStemmer()\n",
    "\n",
    "def stemming(content):\n",
    "    st_content= re.sub('[^a-zA-Z]',' ',content)\n",
    "    st_content= st_content.lower()\n",
    "    st_content= st_content.split()\n",
    "    st_content= [porter_stemmer.stem(word) for word in st_content if not word in stopwords.words('english')]\n",
    "    st_content= ' '.join(st_content)\n",
    "    return st_content"
   ]
  },
  {
   "cell_type": "code",
   "execution_count": 8,
   "id": "961b9635-202f-4f3c-8a36-388cdc1ec8b5",
   "metadata": {},
   "outputs": [
    {
     "data": {
      "text/plain": [
       "Index(['text', 'label'], dtype='object')"
      ]
     },
     "execution_count": 8,
     "metadata": {},
     "output_type": "execute_result"
    }
   ],
   "source": [
    "df.columns"
   ]
  },
  {
   "cell_type": "code",
   "execution_count": 9,
   "id": "b278586c-9db5-46e5-a785-4b588988fbab",
   "metadata": {},
   "outputs": [],
   "source": [
    "df[\"text\"]=df[\"text\"].apply(stemming)"
   ]
  },
  {
   "cell_type": "code",
   "execution_count": 12,
   "id": "ebdf95c3-1542-4bb9-80ad-b1de7df144b0",
   "metadata": {},
   "outputs": [
    {
     "data": {
      "text/plain": [
       "(10000, 2)"
      ]
     },
     "execution_count": 12,
     "metadata": {},
     "output_type": "execute_result"
    }
   ],
   "source": [
    "df.shape"
   ]
  },
  {
   "cell_type": "code",
   "execution_count": 14,
   "id": "995b9572-7ae2-49d1-9c78-cc47cd09cc35",
   "metadata": {},
   "outputs": [],
   "source": [
    "from sklearn.feature_extraction.text import TfidfVectorizer"
   ]
  },
  {
   "cell_type": "code",
   "execution_count": 17,
   "id": "1d09eeea-cf32-4cc0-b29f-4a1cef37f287",
   "metadata": {},
   "outputs": [],
   "source": [
    "x=df[\"text\"]\n",
    "y=df[\"label\"]"
   ]
  },
  {
   "cell_type": "code",
   "execution_count": 18,
   "id": "c7e4740f-99fd-48ce-8c01-fcfca14f5290",
   "metadata": {},
   "outputs": [],
   "source": [
    "vectorizer = TfidfVectorizer()\n",
    "vectorizer.fit(x)\n",
    "x=vectorizer.transform(x)"
   ]
  },
  {
   "cell_type": "code",
   "execution_count": 22,
   "id": "855cdf8e-73c4-4b42-a16b-8b7cf57cb792",
   "metadata": {},
   "outputs": [],
   "source": [
    "from sklearn.model_selection import train_test_split\n",
    "x_train,x_test,y_train,y_test=train_test_split(x,y,test_size=0.1,random_state=45)"
   ]
  },
  {
   "cell_type": "code",
   "execution_count": 24,
   "id": "2d71bfa1-e20b-42ad-9875-02b918d19937",
   "metadata": {},
   "outputs": [],
   "source": [
    "from sklearn.linear_model import LogisticRegression\n",
    "from sklearn.svm import SVC\n",
    "from sklearn.tree import DecisionTreeClassifier\n",
    "from sklearn.ensemble import RandomForestClassifier\n",
    "\n",
    "from sklearn.metrics import accuracy_score,precision_score\n"
   ]
  },
  {
   "cell_type": "code",
   "execution_count": 25,
   "id": "22fdf20d-e144-4062-a05a-00e0ea33e53e",
   "metadata": {},
   "outputs": [],
   "source": [
    "models=[LogisticRegression,SVC,DecisionTreeClassifier,RandomForestClassifier]"
   ]
  },
  {
   "cell_type": "code",
   "execution_count": 27,
   "id": "8925e28e-0381-4e6b-9706-9f07f0967724",
   "metadata": {},
   "outputs": [
    {
     "name": "stdout",
     "output_type": "stream",
     "text": [
      "Evaluating : LogisticRegression\n",
      "1.0\n",
      "1.0\n",
      "Evaluating : SVC\n",
      "1.0\n",
      "1.0\n",
      "Evaluating : DecisionTreeClassifier\n",
      "1.0\n",
      "1.0\n",
      "Evaluating : RandomForestClassifier\n",
      "1.0\n",
      "1.0\n"
     ]
    }
   ],
   "source": [
    "for model in models:\n",
    "    print(f\"Evaluating : {model.__name__}\")\n",
    "    \n",
    "    classifier= model().fit(x_train,y_train)\n",
    "    y_pred=classifier.predict(x_test)\n",
    "    \n",
    "    \n",
    "    print(accuracy_score(y_test,y_pred))\n",
    "    print(precision_score(y_test,y_pred))\n",
    "    "
   ]
  },
  {
   "cell_type": "code",
   "execution_count": 41,
   "id": "85f5ee78-98fe-4707-9eb7-7d6517bce212",
   "metadata": {},
   "outputs": [
    {
     "name": "stdout",
     "output_type": "stream",
     "text": [
      "yes : toxicity\n",
      "no :No toxicity\n",
      "yes : toxicity\n",
      "no :No toxicity\n"
     ]
    }
   ],
   "source": [
    "model=LogisticRegression()\n",
    "classifier=model.fit(x_train,y_train)\n",
    "\n",
    "#stemming\n",
    "#vectorizing\n",
    "\n",
    "\n",
    "texts=[\"i hate you\",\n",
    "     \"You're very kind\",\n",
    "\"You're so stupid\",\n",
    "\"keep it up\"]\n",
    "for text in texts :\n",
    "    text=stemming(text)\n",
    "    text=vectorizer.transform([text])\n",
    "    \n",
    "    x=classifier.predict(text)\n",
    "    \n",
    "    if(x==0):\n",
    "        print(\"no :No toxicity\")\n",
    "    else:\n",
    "        print(\"yes : toxicity\")\n",
    "\n"
   ]
  },
  {
   "cell_type": "code",
   "execution_count": null,
   "id": "491f9ff3-1fa5-4765-b7dc-7e836d6dc53c",
   "metadata": {},
   "outputs": [],
   "source": []
  }
 ],
 "metadata": {
  "kernelspec": {
   "display_name": "Python 3 (ipykernel)",
   "language": "python",
   "name": "python3"
  },
  "language_info": {
   "codemirror_mode": {
    "name": "ipython",
    "version": 3
   },
   "file_extension": ".py",
   "mimetype": "text/x-python",
   "name": "python",
   "nbconvert_exporter": "python",
   "pygments_lexer": "ipython3",
   "version": "3.9.1"
  }
 },
 "nbformat": 4,
 "nbformat_minor": 5
}
